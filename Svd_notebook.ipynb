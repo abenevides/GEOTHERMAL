{
 "cells": [
  {
   "cell_type": "markdown",
   "metadata": {},
   "source": [
    "# Singular Value Decompostion"
   ]
  },
  {
   "cell_type": "markdown",
   "metadata": {},
   "source": [
    "$$Z= U\\sum V^{T}$$"
   ]
  },
  {
   "cell_type": "markdown",
   "metadata": {},
   "source": [
    "* Library"
   ]
  },
  {
   "cell_type": "code",
   "execution_count": 54,
   "metadata": {
    "collapsed": true
   },
   "outputs": [],
   "source": [
    "import numpy as np\n",
    "import matplotlib.pyplot as plt\n",
    "import pylab\n",
    "import glob\n",
    "import pandas as pd\n",
    "import math as math\n",
    "import os"
   ]
  },
  {
   "cell_type": "markdown",
   "metadata": {},
   "source": [
    "## Z matrix that will be decomposed"
   ]
  },
  {
   "cell_type": "markdown",
   "metadata": {},
   "source": [
    "Example"
   ]
  },
  {
   "cell_type": "code",
   "execution_count": 52,
   "metadata": {
    "collapsed": true
   },
   "outputs": [],
   "source": [
    "Z = np.array([[1, 1, 1, 0, 0],\n",
    "              [3, 3, 3, 0, 0],\n",
    "              [4, 4, 4, 0, 0],\n",
    "              [5, 5, 5, 0, 0],\n",
    "              [0, 2, 0, 4, 4],\n",
    "              [0, 0, 0, 5, 5],\n",
    "              [0, 1, 0, 2, 2]])"
   ]
  },
  {
   "cell_type": "code",
   "execution_count": 2,
   "metadata": {
    "collapsed": true
   },
   "outputs": [],
   "source": [
    "# set numpy printing options\n",
    "np.set_printoptions(suppress=True)\n",
    "np.set_printoptions(precision=5)"
   ]
  },
  {
   "cell_type": "markdown",
   "metadata": {},
   "source": [
    "# Full SVD (NumPy)"
   ]
  },
  {
   "cell_type": "code",
   "execution_count": 3,
   "metadata": {
    "collapsed": true
   },
   "outputs": [],
   "source": [
    "def np_svd(X):\n",
    "    return np.linalg.svd(X, full_matrices=True, compute_uv=True)\n",
    "\n",
    "def np_inv_svd(svd_outputs):\n",
    "    U, s, V = svd_outputs\n",
    "    return np.dot(U, np.dot(np.diag(s), V))\n"
   ]
  },
  {
   "cell_type": "code",
   "execution_count": 43,
   "metadata": {
    "collapsed": true
   },
   "outputs": [],
   "source": [
    "U, s, VT= np_svd(a)"
   ]
  },
  {
   "cell_type": "markdown",
   "metadata": {},
   "source": [
    "$$\\begin{split}\n",
    "     \\mathbf{s = \\sum} \n",
    "     & = \\left[\n",
    "     \\begin{array}{ccc}\n",
    "         \\lambda^{-1}_{1} & 0 & 0 & 0\\\\\n",
    "          0 &  \\lambda^{-1}_{2} & 0 & 0\\\\\n",
    "          0 & 0 & \\lambda^{-1}_{3} & 0 \\\\\n",
    "          0 & 0 & 0 & \\lambda^{-1}_{k} \\\\\n",
    "     \\end{array}\n",
    "     \\right]_{N \\times M} \\\\\\\\\n",
    " \\end{split}$$"
   ]
  },
  {
   "cell_type": "markdown",
   "metadata": {},
   "source": [
    "## U, $\\sum$ and $V^T$ matrices"
   ]
  },
  {
   "cell_type": "code",
   "execution_count": 54,
   "metadata": {
    "collapsed": false
   },
   "outputs": [
    {
     "name": "stdout",
     "output_type": "stream",
     "text": [
      "U:\n",
      " [[-1. -0. -0.  0. -0.]\n",
      " [ 0. -1. -0.  0. -0.]\n",
      " [ 0.  0. -1.  0. -0.]\n",
      " [-0. -0. -0. -1. -0.]\n",
      " [-0. -0. -0. -0.  1.]]\n",
      "E:\n",
      " [ 12.48101   9.50861   1.34556   0.        0.     ]\n",
      "VT:\n",
      " [[-0.56226 -0.59286 -0.56226 -0.09013 -0.09013]\n",
      " [ 0.12664 -0.02877  0.12664 -0.69538 -0.69538]\n",
      " [ 0.40967 -0.80479  0.40967  0.09126  0.09126]\n",
      " [-0.70711  0.       0.70711 -0.       0.     ]\n",
      " [-0.      -0.       0.       0.70711 -0.70711]]\n"
     ]
    }
   ],
   "source": [
    "print(\"U:\\n {}\".format(U))\n",
    "print(\"E:\\n {}\".format(s))\n",
    "print(\"VT:\\n {}\".format(VT))"
   ]
  },
  {
   "cell_type": "markdown",
   "metadata": {},
   "source": [
    "# We want the Z inverse matrix"
   ]
  },
  {
   "cell_type": "markdown",
   "metadata": {},
   "source": [
    "$$Z^{-1}=V\\sum^{-1}U^{T}$$"
   ]
  },
  {
   "cell_type": "markdown",
   "metadata": {},
   "source": [
    "Actually, Z inverse is a pseudo-inverse or generalized inverse (penrose), because it is an aproximated solution, and we named Z inverse like:\n",
    "    $$ Z^{+} = V \\sum^{+} U^{T}$$\n"
   ]
  },
  {
   "cell_type": "markdown",
   "metadata": {},
   "source": [
    "where $\\sum^{+}$ is the matriz that contain the sigular values inverse non-zeros in this way: "
   ]
  },
  {
   "cell_type": "markdown",
   "metadata": {},
   "source": [
    "$$\\begin{split}\n",
    "     \\mathbf{\\sum^{+}} \n",
    "     & = \\left[\n",
    "     \\begin{array}{ccc}\n",
    "         E & 0 \\\\\n",
    "          0 &  0\n",
    "     \\end{array}\n",
    "     \\right]_{N \\times M} \\\\\\\\\n",
    " \\end{split}$$"
   ]
  },
  {
   "cell_type": "markdown",
   "metadata": {},
   "source": [
    "being E the $kxk$ matriz whose the element i-ésimo is $e_{ii}=e^{-1}_{i}$ for $1\\le i\\le k$"
   ]
  },
  {
   "cell_type": "markdown",
   "metadata": {},
   "source": [
    "$$\\begin{split}\n",
    "     \\mathbf{E} \n",
    "     & = \\left[\n",
    "     \\begin{array}{ccc}\n",
    "         \\sigma_{1} & 0 & 0 & 0 & 0\\\\\n",
    "          0 &  \\sigma_{2} & 0 & 0 & 0\\\\\n",
    "          0 & 0 & \\sigma_{3} & 0 & 0\\\\\n",
    "          0 & 0 & 0 & \\sigma_{k} & 0 \\\\\n",
    "          0 & 0 & 0 & 0 & 0\n",
    "     \\end{array}\n",
    "     \\right]_{N \\times M} \\\\\\\\\n",
    " \\end{split}$$"
   ]
  },
  {
   "cell_type": "markdown",
   "metadata": {},
   "source": [
    "$\\sigma=1/\\lambda$"
   ]
  },
  {
   "cell_type": "markdown",
   "metadata": {},
   "source": [
    "$$\\sigma_{1} \\gt \\sigma_{2} \\gt \\sigma_{3} \\dots \\gt \\sigma_{k}$$"
   ]
  },
  {
   "cell_type": "code",
   "execution_count": 45,
   "metadata": {
    "collapsed": false
   },
   "outputs": [],
   "source": []
  },
  {
   "cell_type": "code",
   "execution_count": 49,
   "metadata": {
    "collapsed": false
   },
   "outputs": [],
   "source": []
  },
  {
   "cell_type": "markdown",
   "metadata": {},
   "source": [
    "# Resolvendo um sistema linear com SVD"
   ]
  },
  {
   "cell_type": "markdown",
   "metadata": {},
   "source": [
    "## $$Ax=b$$"
   ]
  },
  {
   "cell_type": "markdown",
   "metadata": {},
   "source": [
    "## $$x=A^{+}b$$"
   ]
  },
  {
   "cell_type": "code",
   "execution_count": 67,
   "metadata": {
    "collapsed": true
   },
   "outputs": [],
   "source": [
    "A = np.array([[10., 56., 15.],\n",
    "              [30., 50., 0.],\n",
    "              [70., 17., 0.]])"
   ]
  },
  {
   "cell_type": "code",
   "execution_count": 68,
   "metadata": {
    "collapsed": false
   },
   "outputs": [
    {
     "data": {
      "text/plain": [
       "3"
      ]
     },
     "execution_count": 68,
     "metadata": {},
     "output_type": "execute_result"
    }
   ],
   "source": [
    "b= np.array([1.89, 1.76, 1.77])\n",
    "len(b)\n"
   ]
  },
  {
   "cell_type": "code",
   "execution_count": 69,
   "metadata": {
    "collapsed": false
   },
   "outputs": [],
   "source": [
    "def inversa_sigular(s):\n",
    "    m = len(s)\n",
    "\n",
    "    E = [[0.0 for i in range(m)] for j in range(m)]\n",
    "    for i in range(m):\n",
    "        E[i][i] = 1.0 / s[i]   #!COLOCAR EM ORDEM DO MAIOR PARA O MENOR\n",
    "    return E"
   ]
  },
  {
   "cell_type": "code",
   "execution_count": 87,
   "metadata": {
    "collapsed": false
   },
   "outputs": [],
   "source": [
    "(u, s, v) = np_svd(A)\n",
    "\n",
    "ut=u.T\n",
    "l=np.array([[0.11232396490585773, 0.0, 0.0],\n",
    " [0.0, 0.019057635920438732, 0.0],\n",
    " [0.0, 0.0, 0.010415883208889519]])"
   ]
  },
  {
   "cell_type": "code",
   "execution_count": 88,
   "metadata": {
    "collapsed": false
   },
   "outputs": [],
   "source": [
    "def solve(A, b):\n",
    "    (u, s, v) = np_svd(A)\n",
    "    #l = inversa_sigular(s)\n",
    "    x1 = np.dot(v, l)\n",
    "    x2 = np.dot(ut, b)\n",
    "    x = np.dot(x1, x2)\n",
    "    return x"
   ]
  },
  {
   "cell_type": "code",
   "execution_count": 89,
   "metadata": {
    "collapsed": false
   },
   "outputs": [],
   "source": [
    "\n",
    "x=solve(A, b)"
   ]
  },
  {
   "cell_type": "code",
   "execution_count": 90,
   "metadata": {
    "collapsed": false
   },
   "outputs": [
    {
     "data": {
      "text/plain": [
       "array([ 0.24886, -0.24287,  0.02777])"
      ]
     },
     "execution_count": 90,
     "metadata": {},
     "output_type": "execute_result"
    }
   ],
   "source": [
    "x"
   ]
  },
  {
   "cell_type": "code",
   "execution_count": 86,
   "metadata": {
    "collapsed": false
   },
   "outputs": [],
   "source": [
    "y= np.linalg.solve(A,b) #Resolve diretamente. O resultado está batendo."
   ]
  },
  {
   "cell_type": "code",
   "execution_count": 81,
   "metadata": {
    "collapsed": false
   },
   "outputs": [
    {
     "data": {
      "text/plain": [
       "array([ 0.01959,  0.02344,  0.02541])"
      ]
     },
     "execution_count": 81,
     "metadata": {},
     "output_type": "execute_result"
    }
   ],
   "source": [
    "y"
   ]
  },
  {
   "cell_type": "code",
   "execution_count": null,
   "metadata": {
    "collapsed": true
   },
   "outputs": [],
   "source": []
  }
 ],
 "metadata": {
  "kernelspec": {
   "display_name": "Python 3",
   "language": "python",
   "name": "python3"
  },
  "language_info": {
   "codemirror_mode": {
    "name": "ipython",
    "version": 3
   },
   "file_extension": ".py",
   "mimetype": "text/x-python",
   "name": "python",
   "nbconvert_exporter": "python",
   "pygments_lexer": "ipython3",
   "version": "3.6.0"
  }
 },
 "nbformat": 4,
 "nbformat_minor": 2
}
