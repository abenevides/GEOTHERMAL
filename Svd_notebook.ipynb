{
 "cells": [
  {
   "cell_type": "markdown",
   "metadata": {},
   "source": [
    "# Singular Value Decompostion"
   ]
  },
  {
   "cell_type": "markdown",
   "metadata": {},
   "source": [
    "$$Z= U\\sum V^{T}$$"
   ]
  },
  {
   "cell_type": "markdown",
   "metadata": {},
   "source": [
    "* Library"
   ]
  },
  {
   "cell_type": "code",
   "execution_count": 1,
   "metadata": {
    "collapsed": true
   },
   "outputs": [],
   "source": [
    "import numpy as np\n",
    "import matplotlib.pyplot as plt\n",
    "import pylab\n",
    "import glob\n",
    "import pandas as pd\n",
    "import math as math\n",
    "import os"
   ]
  },
  {
   "cell_type": "markdown",
   "metadata": {},
   "source": [
    "## Z matrix that will be decomposed"
   ]
  },
  {
   "cell_type": "markdown",
   "metadata": {},
   "source": [
    "Example"
   ]
  },
  {
   "cell_type": "code",
   "execution_count": 52,
   "metadata": {
    "collapsed": true
   },
   "outputs": [],
   "source": [
    "Z = np.array([[1, 1, 1, 0, 0],\n",
    "              [3, 3, 3, 0, 0],\n",
    "              [4, 4, 4, 0, 0],\n",
    "              [5, 5, 5, 0, 0],\n",
    "              [0, 2, 0, 4, 4],\n",
    "              [0, 0, 0, 5, 5],\n",
    "              [0, 1, 0, 2, 2]])"
   ]
  },
  {
   "cell_type": "code",
   "execution_count": 2,
   "metadata": {
    "collapsed": true
   },
   "outputs": [],
   "source": [
    "# set numpy printing options\n",
    "np.set_printoptions(suppress=True)\n",
    "np.set_printoptions(precision=5)"
   ]
  },
  {
   "cell_type": "markdown",
   "metadata": {},
   "source": [
    "# Full SVD (NumPy)"
   ]
  },
  {
   "cell_type": "code",
   "execution_count": 3,
   "metadata": {
    "collapsed": true
   },
   "outputs": [],
   "source": [
    "def np_svd(X):\n",
    "    return np.linalg.svd(X, full_matrices=True, compute_uv=True)\n",
    "\n",
    "def np_inv_svd(svd_outputs):\n",
    "    U, s, V = svd_outputs\n",
    "    return np.dot(U, np.dot(np.diag(s), V))\n"
   ]
  },
  {
   "cell_type": "code",
   "execution_count": 43,
   "metadata": {
    "collapsed": true
   },
   "outputs": [],
   "source": [
    "U, s, VT= np_svd(a)"
   ]
  },
  {
   "cell_type": "markdown",
   "metadata": {},
   "source": [
    "$$\\begin{split}\n",
    "     \\mathbf{s = \\sum} \n",
    "     & = \\left[\n",
    "     \\begin{array}{ccc}\n",
    "         \\lambda^{-1}_{1} & 0 & 0 & 0\\\\\n",
    "          0 &  \\lambda^{-1}_{2} & 0 & 0\\\\\n",
    "          0 & 0 & \\lambda^{-1}_{3} & 0 \\\\\n",
    "          0 & 0 & 0 & \\lambda^{-1}_{k} \\\\\n",
    "     \\end{array}\n",
    "     \\right]_{N \\times M} \\\\\\\\\n",
    " \\end{split}$$"
   ]
  },
  {
   "cell_type": "markdown",
   "metadata": {},
   "source": [
    "## U, $\\sum$ and $V^T$ matrices"
   ]
  },
  {
   "cell_type": "code",
   "execution_count": 54,
   "metadata": {
    "collapsed": false
   },
   "outputs": [
    {
     "name": "stdout",
     "output_type": "stream",
     "text": [
      "U:\n",
      " [[-1. -0. -0.  0. -0.]\n",
      " [ 0. -1. -0.  0. -0.]\n",
      " [ 0.  0. -1.  0. -0.]\n",
      " [-0. -0. -0. -1. -0.]\n",
      " [-0. -0. -0. -0.  1.]]\n",
      "E:\n",
      " [ 12.48101   9.50861   1.34556   0.        0.     ]\n",
      "VT:\n",
      " [[-0.56226 -0.59286 -0.56226 -0.09013 -0.09013]\n",
      " [ 0.12664 -0.02877  0.12664 -0.69538 -0.69538]\n",
      " [ 0.40967 -0.80479  0.40967  0.09126  0.09126]\n",
      " [-0.70711  0.       0.70711 -0.       0.     ]\n",
      " [-0.      -0.       0.       0.70711 -0.70711]]\n"
     ]
    }
   ],
   "source": [
    "print(\"U:\\n {}\".format(U))\n",
    "print(\"E:\\n {}\".format(s))\n",
    "print(\"VT:\\n {}\".format(VT))"
   ]
  },
  {
   "cell_type": "markdown",
   "metadata": {},
   "source": [
    "# We want the Z inverse matrix"
   ]
  },
  {
   "cell_type": "markdown",
   "metadata": {},
   "source": [
    "$$Z^{-1}=V\\sum^{-1}U^{T}$$"
   ]
  },
  {
   "cell_type": "markdown",
   "metadata": {},
   "source": [
    "Actually, Z inverse is a pseudo-inverse or generalized inverse (penrose), because it is an aproximated solution, and we named Z inverse like:\n",
    "    $$ Z^{+} = V \\sum^{+} U^{T}$$\n"
   ]
  },
  {
   "cell_type": "markdown",
   "metadata": {},
   "source": [
    "where $\\sum^{+}$ is the matriz that contain the sigular values inverse non-zeros in this way: "
   ]
  },
  {
   "cell_type": "markdown",
   "metadata": {},
   "source": [
    "$$\\begin{split}\n",
    "     \\mathbf{\\sum^{+}} \n",
    "     & = \\left[\n",
    "     \\begin{array}{ccc}\n",
    "         E & 0 \\\\\n",
    "          0 &  0\n",
    "     \\end{array}\n",
    "     \\right]_{N \\times M} \\\\\\\\\n",
    " \\end{split}$$"
   ]
  },
  {
   "cell_type": "markdown",
   "metadata": {},
   "source": [
    "being E the $kxk$ matriz whose the element i-ésimo is $e_{ii}=e^{-1}_{i}$ for $1\\le i\\le k$"
   ]
  },
  {
   "cell_type": "markdown",
   "metadata": {},
   "source": [
    "$$\\begin{split}\n",
    "     \\mathbf{E} \n",
    "     & = \\left[\n",
    "     \\begin{array}{ccc}\n",
    "         \\sigma_{1} & 0 & 0 & 0 & 0\\\\\n",
    "          0 &  \\sigma_{2} & 0 & 0 & 0\\\\\n",
    "          0 & 0 & \\sigma_{3} & 0 & 0\\\\\n",
    "          0 & 0 & 0 & \\sigma_{k} & 0 \\\\\n",
    "          0 & 0 & 0 & 0 & 0\n",
    "     \\end{array}\n",
    "     \\right]_{N \\times M} \\\\\\\\\n",
    " \\end{split}$$"
   ]
  },
  {
   "cell_type": "markdown",
   "metadata": {},
   "source": [
    "$\\sigma=1/\\lambda$"
   ]
  },
  {
   "cell_type": "markdown",
   "metadata": {},
   "source": [
    "$$\\sigma_{1} \\gt \\sigma_{2} \\gt \\sigma_{3} \\dots \\gt \\sigma_{k}$$"
   ]
  },
  {
   "cell_type": "code",
   "execution_count": 45,
   "metadata": {
    "collapsed": false
   },
   "outputs": [],
   "source": []
  },
  {
   "cell_type": "code",
   "execution_count": 49,
   "metadata": {
    "collapsed": false
   },
   "outputs": [],
   "source": []
  },
  {
   "cell_type": "markdown",
   "metadata": {},
   "source": [
    "# Resolvendo um sistema linear com SVD"
   ]
  },
  {
   "cell_type": "markdown",
   "metadata": {},
   "source": [
    "## $$Ax=b$$"
   ]
  },
  {
   "cell_type": "markdown",
   "metadata": {},
   "source": [
    "## $$x=A^{+}b$$"
   ]
  },
  {
   "cell_type": "code",
   "execution_count": 42,
   "metadata": {
    "collapsed": true
   },
   "outputs": [],
   "source": [
    "A = np.array([[10., 56., 15.],\n",
    "              [28., 50., 8.],\n",
    "              [40., 50., 0.],\n",
    "              [70., 17., 0.]])"
   ]
  },
  {
   "cell_type": "code",
   "execution_count": 48,
   "metadata": {
    "collapsed": false
   },
   "outputs": [
    {
     "data": {
      "text/plain": [
       "4"
      ]
     },
     "execution_count": 48,
     "metadata": {},
     "output_type": "execute_result"
    }
   ],
   "source": [
    "b= np.array([1.89, 1.93, 1.95, 1.77 ])\n",
    "len(b)\n"
   ]
  },
  {
   "cell_type": "code",
   "execution_count": 49,
   "metadata": {
    "collapsed": true
   },
   "outputs": [],
   "source": [
    "def inversa_sigular(s):\n",
    "    m = len(b)\n",
    "    n = len(s)\n",
    "    E = [[0.0 for i in range(m)] for j in range(m)]\n",
    "    for i in range(n):\n",
    "        E[i][i] = 1.0 / s[i]   !COLOCAR EM ORDEM DO MAIOR PARA O MENOR\n",
    "    return E"
   ]
  },
  {
   "cell_type": "code",
   "execution_count": 52,
   "metadata": {
    "collapsed": false
   },
   "outputs": [
    {
     "data": {
      "text/plain": [
       "[[0.0087080969016729518, 0.0, 0.0, 0.0],\n",
       " [0.0, 0.018756339873361321, 0.0, 0.0],\n",
       " [0.0, 0.0, 0.12104480674902145, 0.0],\n",
       " [0.0, 0.0, 0.0, 0.0]]"
      ]
     },
     "execution_count": 52,
     "metadata": {},
     "output_type": "execute_result"
    }
   ],
   "source": [
    "(u, s, v) = np_svd(A)\n",
    "e=inversa_sigular(s)\n",
    "e"
   ]
  },
  {
   "cell_type": "code",
   "execution_count": 45,
   "metadata": {
    "collapsed": false
   },
   "outputs": [],
   "source": [
    "def solve(A, b):\n",
    "    (u, s, v) = np_svd(A)\n",
    "    l = inversa_sigular(s)\n",
    "    x1 = np.dot(v, l)\n",
    "    x2 = np.dot(u.T, b)\n",
    "    x = np.dot(x1, x2)\n",
    "    return x"
   ]
  },
  {
   "cell_type": "code",
   "execution_count": 46,
   "metadata": {
    "collapsed": false
   },
   "outputs": [
    {
     "ename": "ValueError",
     "evalue": "shapes (3,3) and (4,4) not aligned: 3 (dim 1) != 4 (dim 0)",
     "output_type": "error",
     "traceback": [
      "\u001b[0;31m---------------------------------------------------------------------------\u001b[0m",
      "\u001b[0;31mValueError\u001b[0m                                Traceback (most recent call last)",
      "\u001b[0;32m<ipython-input-46-081c91b5044d>\u001b[0m in \u001b[0;36m<module>\u001b[0;34m()\u001b[0m\n\u001b[1;32m      1\u001b[0m \u001b[1;33m\u001b[0m\u001b[0m\n\u001b[0;32m----> 2\u001b[0;31m \u001b[0mx\u001b[0m\u001b[1;33m=\u001b[0m\u001b[0msolve\u001b[0m\u001b[1;33m(\u001b[0m\u001b[0mA\u001b[0m\u001b[1;33m,\u001b[0m \u001b[0mb\u001b[0m\u001b[1;33m)\u001b[0m\u001b[1;33m\u001b[0m\u001b[0m\n\u001b[0m",
      "\u001b[0;32m<ipython-input-45-954debd0a706>\u001b[0m in \u001b[0;36msolve\u001b[0;34m(A, b)\u001b[0m\n\u001b[1;32m      2\u001b[0m     \u001b[1;33m(\u001b[0m\u001b[0mu\u001b[0m\u001b[1;33m,\u001b[0m \u001b[0ms\u001b[0m\u001b[1;33m,\u001b[0m \u001b[0mv\u001b[0m\u001b[1;33m)\u001b[0m \u001b[1;33m=\u001b[0m \u001b[0mnp_svd\u001b[0m\u001b[1;33m(\u001b[0m\u001b[0mA\u001b[0m\u001b[1;33m)\u001b[0m\u001b[1;33m\u001b[0m\u001b[0m\n\u001b[1;32m      3\u001b[0m     \u001b[0ml\u001b[0m \u001b[1;33m=\u001b[0m \u001b[0minversa_sigular\u001b[0m\u001b[1;33m(\u001b[0m\u001b[0ms\u001b[0m\u001b[1;33m)\u001b[0m\u001b[1;33m\u001b[0m\u001b[0m\n\u001b[0;32m----> 4\u001b[0;31m     \u001b[0mx1\u001b[0m \u001b[1;33m=\u001b[0m \u001b[0mnp\u001b[0m\u001b[1;33m.\u001b[0m\u001b[0mdot\u001b[0m\u001b[1;33m(\u001b[0m\u001b[0mv\u001b[0m\u001b[1;33m,\u001b[0m \u001b[0ml\u001b[0m\u001b[1;33m)\u001b[0m\u001b[1;33m\u001b[0m\u001b[0m\n\u001b[0m\u001b[1;32m      5\u001b[0m     \u001b[0mx2\u001b[0m \u001b[1;33m=\u001b[0m \u001b[0mnp\u001b[0m\u001b[1;33m.\u001b[0m\u001b[0mdot\u001b[0m\u001b[1;33m(\u001b[0m\u001b[0mu\u001b[0m\u001b[1;33m.\u001b[0m\u001b[0mT\u001b[0m\u001b[1;33m,\u001b[0m \u001b[0mb\u001b[0m\u001b[1;33m)\u001b[0m\u001b[1;33m\u001b[0m\u001b[0m\n\u001b[1;32m      6\u001b[0m     \u001b[0mx\u001b[0m \u001b[1;33m=\u001b[0m \u001b[0mnp\u001b[0m\u001b[1;33m.\u001b[0m\u001b[0mdot\u001b[0m\u001b[1;33m(\u001b[0m\u001b[0mx1\u001b[0m\u001b[1;33m,\u001b[0m \u001b[0mx2\u001b[0m\u001b[1;33m)\u001b[0m\u001b[1;33m\u001b[0m\u001b[0m\n",
      "\u001b[0;31mValueError\u001b[0m: shapes (3,3) and (4,4) not aligned: 3 (dim 1) != 4 (dim 0)"
     ]
    }
   ],
   "source": [
    "\n",
    "x=solve(A, b)"
   ]
  },
  {
   "cell_type": "code",
   "execution_count": 25,
   "metadata": {
    "collapsed": false
   },
   "outputs": [
    {
     "data": {
      "text/plain": [
       "array([ 0.02909, -0.01439,  0.02294])"
      ]
     },
     "execution_count": 25,
     "metadata": {},
     "output_type": "execute_result"
    }
   ],
   "source": [
    "x"
   ]
  },
  {
   "cell_type": "code",
   "execution_count": null,
   "metadata": {
    "collapsed": true
   },
   "outputs": [],
   "source": []
  }
 ],
 "metadata": {
  "kernelspec": {
   "display_name": "Python 3",
   "language": "python",
   "name": "python3"
  },
  "language_info": {
   "codemirror_mode": {
    "name": "ipython",
    "version": 3
   },
   "file_extension": ".py",
   "mimetype": "text/x-python",
   "name": "python",
   "nbconvert_exporter": "python",
   "pygments_lexer": "ipython3",
   "version": "3.6.0"
  }
 },
 "nbformat": 4,
 "nbformat_minor": 2
}
