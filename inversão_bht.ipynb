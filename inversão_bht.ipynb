# Inversão de BHT (Temperatura de Fundo de Poço) para determinação do gradiente geotérmico em formações em subsuperfície

$$\Delta = Z^{-1}T_{\delta}$$
