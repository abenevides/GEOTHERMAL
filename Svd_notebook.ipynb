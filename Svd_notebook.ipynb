{
 "cells": [
  {
   "cell_type": "markdown",
   "metadata": {},
   "source": [
    "# Singular Value Decompostion"
   ]
  },
  {
   "cell_type": "markdown",
   "metadata": {},
   "source": [
    "* Library"
   ]
  },
  {
   "cell_type": "code",
   "execution_count": 3,
   "metadata": {
    "collapsed": true
   },
   "outputs": [],
   "source": [
    "import numpy as np\n",
    "import matplotlib.pyplot as plt\n",
    "import pylab\n",
    "import glob\n",
    "import pandas as pd\n",
    "import math as math\n",
    "import os"
   ]
  },
  {
   "cell_type": "code",
   "execution_count": null,
   "metadata": {
    "collapsed": true
   },
   "outputs": [],
   "source": []
  },
  {
   "cell_type": "code",
   "execution_count": 4,
   "metadata": {
    "collapsed": true
   },
   "outputs": [],
   "source": [
    "a = np.array([[1, 1, 1, 0, 0],\n",
    "              [3, 3, 3, 0, 0],\n",
    "              [4, 4, 4, 0, 0],\n",
    "              [5, 5, 5, 0, 0],\n",
    "              [0, 2, 0, 4, 4],\n",
    "              [0, 0, 0, 5, 5],\n",
    "              [0, 1, 0, 2, 2]])"
   ]
  },
  {
   "cell_type": "code",
   "execution_count": 5,
   "metadata": {
    "collapsed": true
   },
   "outputs": [],
   "source": [
    "# set numpy printing options\n",
    "np.set_printoptions(suppress=True)\n",
    "np.set_printoptions(precision=3)"
   ]
  },
  {
   "cell_type": "code",
   "execution_count": 9,
   "metadata": {
    "collapsed": false
   },
   "outputs": [
    {
     "name": "stdout",
     "output_type": "stream",
     "text": [
      "--- FULL ---\n",
      "U:\n",
      " [[-0.138  0.024  0.011  0.99  -0.    -0.     0.   ]\n",
      " [-0.413  0.071  0.032 -0.059 -0.885  0.192  0.   ]\n",
      " [-0.55   0.094  0.043 -0.079  0.424  0.707  0.   ]\n",
      " [-0.688  0.118  0.054 -0.099  0.192 -0.681  0.   ]\n",
      " [-0.153 -0.591 -0.654 -0.     0.    -0.    -0.447]\n",
      " [-0.072 -0.731  0.678  0.    -0.     0.     0.   ]\n",
      " [-0.076 -0.296 -0.327 -0.    -0.    -0.     0.894]]\n",
      "s:\n",
      " [ 12.481   9.509   1.346   0.      0.   ]\n",
      "VT:\n",
      " [[-0.562 -0.593 -0.562 -0.09  -0.09 ]\n",
      " [ 0.127 -0.029  0.127 -0.695 -0.695]\n",
      " [ 0.41  -0.805  0.41   0.091  0.091]\n",
      " [-0.707  0.     0.707 -0.     0.   ]\n",
      " [-0.     0.    -0.     0.707 -0.707]]\n"
     ]
    }
   ],
   "source": [
    "print(\"--- FULL ---\")\n",
    "U, s, VT = np.linalg.svd(a, full_matrices=True)\n",
    "\n",
    "print(\"U:\\n {}\".format(U))\n",
    "print(\"s:\\n {}\".format(s))\n",
    "print(\"VT:\\n {}\".format(VT))\n"
   ]
  },
  {
   "cell_type": "code",
   "execution_count": null,
   "metadata": {
    "collapsed": true
   },
   "outputs": [],
   "source": []
  }
 ],
 "metadata": {
  "kernelspec": {
   "display_name": "Python 3",
   "language": "python",
   "name": "python3"
  },
  "language_info": {
   "codemirror_mode": {
    "name": "ipython",
    "version": 3
   },
   "file_extension": ".py",
   "mimetype": "text/x-python",
   "name": "python",
   "nbconvert_exporter": "python",
   "pygments_lexer": "ipython3",
   "version": "3.6.0"
  }
 },
 "nbformat": 4,
 "nbformat_minor": 2
}
